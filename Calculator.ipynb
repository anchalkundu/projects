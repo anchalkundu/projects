{
 "cells": [
  {
   "cell_type": "code",
   "execution_count": 13,
   "id": "8e424075-bb63-4d10-b0ce-7db7cb719b07",
   "metadata": {},
   "outputs": [],
   "source": [
    "import numpy as np\n",
    "\n",
    "def calculate(input_list):\n",
    "   \n",
    "    if len(input_list) != 9:\n",
    "        raise ValueError(\"List must contain nine numbers.\")\n",
    "    \n",
    "   \n",
    "    matrix = np.array(input_list).reshape(3, 3)\n",
    "    \n",
    "   \n",
    "    calculations = {\n",
    "        'mean': [\n",
    "            list(np.mean(matrix, axis=0)), \n",
    "            list(np.mean(matrix, axis=1)), \n",
    "            np.mean(matrix).item()         \n",
    "        ],\n",
    "        'variance': [\n",
    "            list(np.var(matrix, axis=0)),  \n",
    "            list(np.var(matrix, axis=1)),  \n",
    "            np.var(matrix).item()         \n",
    "        ],\n",
    "        'standard deviation': [\n",
    "            list(np.std(matrix, axis=0)),  \n",
    "            list(np.std(matrix, axis=1)),  \n",
    "            np.std(matrix).item()         \n",
    "        ],\n",
    "        'max': [\n",
    "            list(np.max(matrix, axis=0)),  \n",
    "            list(np.max(matrix, axis=1)),  \n",
    "            np.max(matrix).item()         \n",
    "        ],\n",
    "        'min': [\n",
    "            list(np.min(matrix, axis=0)),  \n",
    "            list(np.min(matrix, axis=1)),  \n",
    "            np.min(matrix).item()         \n",
    "        ],\n",
    "        'sum': [\n",
    "            list(np.sum(matrix, axis=0)),  \n",
    "            list(np.sum(matrix, axis=1)),  \n",
    "            np.sum(matrix).item()        \n",
    "        ]\n",
    "    }\n",
    "    \n",
    "    return calculations"
   ]
  },
  {
   "cell_type": "code",
   "execution_count": 14,
   "id": "9c6a780a-5267-4090-8ff1-a7daa5b3e0bd",
   "metadata": {},
   "outputs": [
    {
     "name": "stdout",
     "output_type": "stream",
     "text": [
      "{'mean': [[3.0, 4.0, 5.0], [1.0, 4.0, 7.0], 4.0], 'variance': [[6.0, 6.0, 6.0], [0.6666666666666666, 0.6666666666666666, 0.6666666666666666], 6.666666666666667], 'standard deviation': [[2.449489742783178, 2.449489742783178, 2.449489742783178], [0.816496580927726, 0.816496580927726, 0.816496580927726], 2.581988897471611], 'max': [[6, 7, 8], [2, 5, 8], 8], 'min': [[0, 1, 2], [0, 3, 6], 0], 'sum': [[9, 12, 15], [3, 12, 21], 36]}\n"
     ]
    }
   ],
   "source": [
    "print(calculate([0, 1, 2, 3, 4, 5, 6, 7, 8]))"
   ]
  },
  {
   "cell_type": "code",
   "execution_count": null,
   "id": "150f9cbc-8f05-4f31-af7a-589c3ded706a",
   "metadata": {},
   "outputs": [],
   "source": []
  }
 ],
 "metadata": {
  "kernelspec": {
   "display_name": "Python 3 (ipykernel)",
   "language": "python",
   "name": "python3"
  },
  "language_info": {
   "codemirror_mode": {
    "name": "ipython",
    "version": 3
   },
   "file_extension": ".py",
   "mimetype": "text/x-python",
   "name": "python",
   "nbconvert_exporter": "python",
   "pygments_lexer": "ipython3",
   "version": "3.12.4"
  }
 },
 "nbformat": 4,
 "nbformat_minor": 5
}
