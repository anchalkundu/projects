{
 "cells": [
  {
   "cell_type": "code",
   "execution_count": 18,
   "id": "e2b54f1e-ad92-46a7-8a85-545049ba61b9",
   "metadata": {},
   "outputs": [
    {
     "data": {
      "text/html": [
       "<div>\n",
       "<style scoped>\n",
       "    .dataframe tbody tr th:only-of-type {\n",
       "        vertical-align: middle;\n",
       "    }\n",
       "\n",
       "    .dataframe tbody tr th {\n",
       "        vertical-align: top;\n",
       "    }\n",
       "\n",
       "    .dataframe thead th {\n",
       "        text-align: right;\n",
       "    }\n",
       "</style>\n",
       "<table border=\"1\" class=\"dataframe\">\n",
       "  <thead>\n",
       "    <tr style=\"text-align: right;\">\n",
       "      <th></th>\n",
       "      <th>age</th>\n",
       "      <th>workclass</th>\n",
       "      <th>fnlwgt</th>\n",
       "      <th>education</th>\n",
       "      <th>education-num</th>\n",
       "      <th>marital-status</th>\n",
       "      <th>occupation</th>\n",
       "      <th>relationship</th>\n",
       "      <th>race</th>\n",
       "      <th>sex</th>\n",
       "      <th>capital-gain</th>\n",
       "      <th>capital-loss</th>\n",
       "      <th>hours-per-week</th>\n",
       "      <th>native-country</th>\n",
       "      <th>salary</th>\n",
       "    </tr>\n",
       "  </thead>\n",
       "  <tbody>\n",
       "    <tr>\n",
       "      <th>0</th>\n",
       "      <td>39</td>\n",
       "      <td>State-gov</td>\n",
       "      <td>77516</td>\n",
       "      <td>Bachelors</td>\n",
       "      <td>13</td>\n",
       "      <td>Never-married</td>\n",
       "      <td>Adm-clerical</td>\n",
       "      <td>Not-in-family</td>\n",
       "      <td>White</td>\n",
       "      <td>Male</td>\n",
       "      <td>2174</td>\n",
       "      <td>0</td>\n",
       "      <td>40</td>\n",
       "      <td>United-States</td>\n",
       "      <td>&lt;=50K</td>\n",
       "    </tr>\n",
       "    <tr>\n",
       "      <th>1</th>\n",
       "      <td>50</td>\n",
       "      <td>Self-emp-not-inc</td>\n",
       "      <td>83311</td>\n",
       "      <td>Bachelors</td>\n",
       "      <td>13</td>\n",
       "      <td>Married-civ-spouse</td>\n",
       "      <td>Exec-managerial</td>\n",
       "      <td>Husband</td>\n",
       "      <td>White</td>\n",
       "      <td>Male</td>\n",
       "      <td>0</td>\n",
       "      <td>0</td>\n",
       "      <td>13</td>\n",
       "      <td>United-States</td>\n",
       "      <td>&lt;=50K</td>\n",
       "    </tr>\n",
       "    <tr>\n",
       "      <th>2</th>\n",
       "      <td>38</td>\n",
       "      <td>Private</td>\n",
       "      <td>215646</td>\n",
       "      <td>HS-grad</td>\n",
       "      <td>9</td>\n",
       "      <td>Divorced</td>\n",
       "      <td>Handlers-cleaners</td>\n",
       "      <td>Not-in-family</td>\n",
       "      <td>White</td>\n",
       "      <td>Male</td>\n",
       "      <td>0</td>\n",
       "      <td>0</td>\n",
       "      <td>40</td>\n",
       "      <td>United-States</td>\n",
       "      <td>&lt;=50K</td>\n",
       "    </tr>\n",
       "    <tr>\n",
       "      <th>3</th>\n",
       "      <td>53</td>\n",
       "      <td>Private</td>\n",
       "      <td>234721</td>\n",
       "      <td>11th</td>\n",
       "      <td>7</td>\n",
       "      <td>Married-civ-spouse</td>\n",
       "      <td>Handlers-cleaners</td>\n",
       "      <td>Husband</td>\n",
       "      <td>Black</td>\n",
       "      <td>Male</td>\n",
       "      <td>0</td>\n",
       "      <td>0</td>\n",
       "      <td>40</td>\n",
       "      <td>United-States</td>\n",
       "      <td>&lt;=50K</td>\n",
       "    </tr>\n",
       "    <tr>\n",
       "      <th>4</th>\n",
       "      <td>28</td>\n",
       "      <td>Private</td>\n",
       "      <td>338409</td>\n",
       "      <td>Bachelors</td>\n",
       "      <td>13</td>\n",
       "      <td>Married-civ-spouse</td>\n",
       "      <td>Prof-specialty</td>\n",
       "      <td>Wife</td>\n",
       "      <td>Black</td>\n",
       "      <td>Female</td>\n",
       "      <td>0</td>\n",
       "      <td>0</td>\n",
       "      <td>40</td>\n",
       "      <td>Cuba</td>\n",
       "      <td>&lt;=50K</td>\n",
       "    </tr>\n",
       "  </tbody>\n",
       "</table>\n",
       "</div>"
      ],
      "text/plain": [
       "   age         workclass  fnlwgt  education  education-num  \\\n",
       "0   39         State-gov   77516  Bachelors             13   \n",
       "1   50  Self-emp-not-inc   83311  Bachelors             13   \n",
       "2   38           Private  215646    HS-grad              9   \n",
       "3   53           Private  234721       11th              7   \n",
       "4   28           Private  338409  Bachelors             13   \n",
       "\n",
       "       marital-status         occupation   relationship   race     sex  \\\n",
       "0       Never-married       Adm-clerical  Not-in-family  White    Male   \n",
       "1  Married-civ-spouse    Exec-managerial        Husband  White    Male   \n",
       "2            Divorced  Handlers-cleaners  Not-in-family  White    Male   \n",
       "3  Married-civ-spouse  Handlers-cleaners        Husband  Black    Male   \n",
       "4  Married-civ-spouse     Prof-specialty           Wife  Black  Female   \n",
       "\n",
       "   capital-gain  capital-loss  hours-per-week native-country salary  \n",
       "0          2174             0              40  United-States  <=50K  \n",
       "1             0             0              13  United-States  <=50K  \n",
       "2             0             0              40  United-States  <=50K  \n",
       "3             0             0              40  United-States  <=50K  \n",
       "4             0             0              40           Cuba  <=50K  "
      ]
     },
     "execution_count": 18,
     "metadata": {},
     "output_type": "execute_result"
    }
   ],
   "source": [
    "import pandas as pd\n",
    "\n",
    "data = {\n",
    "    \"age\": [39, 50, 38, 53, 28],\n",
    "    \"workclass\": [\"State-gov\", \"Self-emp-not-inc\", \"Private\", \"Private\", \"Private\"],\n",
    "    \"fnlwgt\": [77516, 83311, 215646, 234721, 338409],\n",
    "    \"education\": [\"Bachelors\", \"Bachelors\", \"HS-grad\", \"11th\", \"Bachelors\"],\n",
    "    \"education-num\": [13, 13, 9, 7, 13],\n",
    "    \"marital-status\": [\"Never-married\", \"Married-civ-spouse\", \"Divorced\", \"Married-civ-spouse\", \"Married-civ-spouse\"],\n",
    "    \"occupation\": [\"Adm-clerical\", \"Exec-managerial\", \"Handlers-cleaners\", \"Handlers-cleaners\", \"Prof-specialty\"],\n",
    "    \"relationship\": [\"Not-in-family\", \"Husband\", \"Not-in-family\", \"Husband\", \"Wife\"],\n",
    "    \"race\": [\"White\", \"White\", \"White\", \"Black\", \"Black\"],\n",
    "    \"sex\": [\"Male\", \"Male\", \"Male\", \"Male\", \"Female\"],\n",
    "    \"capital-gain\": [2174, 0, 0, 0, 0],\n",
    "    \"capital-loss\": [0, 0, 0, 0, 0],\n",
    "    \"hours-per-week\": [40, 13, 40, 40, 40],\n",
    "    \"native-country\": [\"United-States\", \"United-States\", \"United-States\", \"United-States\", \"Cuba\"],\n",
    "    \"salary\": [\"<=50K\", \"<=50K\", \"<=50K\", \"<=50K\", \"<=50K\"]\n",
    "}\n",
    "\n",
    "df = pd.DataFrame(data)\n",
    "\n",
    "df\n"
   ]
  },
  {
   "cell_type": "code",
   "execution_count": 14,
   "id": "86f6c332-92a3-4c1e-89e7-76427fc7f2da",
   "metadata": {},
   "outputs": [
    {
     "data": {
      "text/plain": [
       "race\n",
       "White    3\n",
       "Black    2\n",
       "Name: count, dtype: int64"
      ]
     },
     "execution_count": 14,
     "metadata": {},
     "output_type": "execute_result"
    }
   ],
   "source": [
    "race_counts = df['race'] .value_counts()\n",
    "race_counts\n"
   ]
  },
  {
   "cell_type": "code",
   "execution_count": 15,
   "id": "3e0114f2-77df-4b64-aeec-e5b441a26bf8",
   "metadata": {},
   "outputs": [
    {
     "data": {
      "text/plain": [
       "45.0"
      ]
     },
     "execution_count": 15,
     "metadata": {},
     "output_type": "execute_result"
    }
   ],
   "source": [
    "male_data = df[df['sex'] == 'Male']\n",
    "average_age_men = male_data['age'].mean()\n",
    "\n",
    "average_age_men\n"
   ]
  },
  {
   "cell_type": "code",
   "execution_count": 23,
   "id": "562780d7-d3e4-45c1-b031-e7dee3045ab1",
   "metadata": {},
   "outputs": [
    {
     "data": {
      "text/plain": [
       "60.0"
      ]
     },
     "execution_count": 23,
     "metadata": {},
     "output_type": "execute_result"
    }
   ],
   "source": [
    "total_people = len(df)\n",
    "\n",
    "bachelors_count = len(df[df['education'] == 'Bachelors'])\n",
    "\n",
    "bachelors_percentage = (bachelors_count / total_people) * 100\n",
    "bachelors_percentage\n"
   ]
  },
  {
   "cell_type": "code",
   "execution_count": 24,
   "id": "147f9498-7b36-45c6-a863-c3c05e745f4f",
   "metadata": {},
   "outputs": [
    {
     "data": {
      "text/plain": [
       "0.0"
      ]
     },
     "execution_count": 24,
     "metadata": {},
     "output_type": "execute_result"
    }
   ],
   "source": [
    "advanced_edu = df['education'].isin(['Bachelors', 'Masters', 'Doctorate'])\n",
    "\n",
    "advanced_edu_rich = df[advanced_edu & (df['salary'] == '>50K')]\n",
    "\n",
    "percentage_advanced_edu_rich = (len(advanced_edu_rich) / len(df[advanced_edu])) * 100\n",
    "percentage_advanced_edu_rich\n"
   ]
  },
  {
   "cell_type": "code",
   "execution_count": 25,
   "id": "361932c4-7e32-4ef4-92bc-b428ec4cd1b8",
   "metadata": {},
   "outputs": [
    {
     "data": {
      "text/plain": [
       "0.0"
      ]
     },
     "execution_count": 25,
     "metadata": {},
     "output_type": "execute_result"
    }
   ],
   "source": [
    "non_advanced_edu = ~df['education'].isin(['Bachelors', 'Masters', 'Doctorate'])\n",
    "\n",
    "non_advanced_edu_rich = df[non_advanced_edu & (df['salary'] == '>50K')]\n",
    "\n",
    "percentage_non_advanced_edu_rich = (len(non_advanced_edu_rich) / len(df[non_advanced_edu])) * 100\n",
    "percentage_non_advanced_edu_rich\n"
   ]
  },
  {
   "cell_type": "code",
   "execution_count": 26,
   "id": "a493a2cd-cdc7-4be6-9705-f8660c26e0c8",
   "metadata": {},
   "outputs": [
    {
     "data": {
      "text/plain": [
       "13"
      ]
     },
     "execution_count": 26,
     "metadata": {},
     "output_type": "execute_result"
    }
   ],
   "source": [
    "min_hours_per_week = df['hours-per-week'].min()\n",
    "min_hours_per_week\n"
   ]
  },
  {
   "cell_type": "code",
   "execution_count": 27,
   "id": "f7b0bad1-c19a-44f3-97ec-d616d201dfa3",
   "metadata": {},
   "outputs": [
    {
     "data": {
      "text/plain": [
       "0.0"
      ]
     },
     "execution_count": 27,
     "metadata": {},
     "output_type": "execute_result"
    }
   ],
   "source": [
    "min_hours_workers = df[df['hours-per-week'] == min_hours_per_week]\n",
    "\n",
    "percentage_min_hours_rich = (len(min_hours_workers[min_hours_workers['salary'] == '>50K']) / len(min_hours_workers)) * 100\n",
    "percentage_min_hours_rich\n"
   ]
  },
  {
   "cell_type": "code",
   "execution_count": 20,
   "id": "153344c3-ab9e-4329-9751-bf02ef30cc3d",
   "metadata": {},
   "outputs": [
    {
     "data": {
      "text/plain": [
       "(None, None)"
      ]
     },
     "execution_count": 20,
     "metadata": {},
     "output_type": "execute_result"
    }
   ],
   "source": [
    "if not country_percentage.dropna().empty:\n",
    "    highest_country = country_percentage.idxmax()  \n",
    "    highest_percentage = country_percentage.max()\n",
    "else:\n",
    "    highest_country = None\n",
    "    highest_percentage = None\n",
    "highest_country, highest_percentage\n"
   ]
  },
  {
   "cell_type": "code",
   "execution_count": 17,
   "id": "37d25534-86a6-4c33-87eb-97df72c87d40",
   "metadata": {},
   "outputs": [
    {
     "data": {
      "text/plain": [
       "Series([], Name: occupation, dtype: object)"
      ]
     },
     "execution_count": 17,
     "metadata": {},
     "output_type": "execute_result"
    }
   ],
   "source": [
    "india_high_earners = df[(df['native-country'] == 'India') & (df['salary'] == '>50K')]\n",
    "\n",
    "most_popular_occupation = india_high_earners['occupation']\n",
    "\n",
    "most_popular_occupation\n"
   ]
  },
  {
   "cell_type": "code",
   "execution_count": 23,
   "id": "5685f3b0-dd9e-4220-981a-a77c9f87c172",
   "metadata": {},
   "outputs": [],
   "source": [
    "# Filter for individuals in India earning >50K\n",
    "india_high_earners = df[(df['native-country'] == 'India') & (df['salary'] == '>50K')]\n",
    "\n",
    "# Check if the filtered DataFrame is empty\n",
    "if not india_high_earners.empty:\n",
    "    most_popular_occupation = india_high_earners['occupation'].mode()[0]  # Get the most common occupation\n",
    "else:\n",
    "    most_popular_occupation = None  # Handle the empty case\n",
    "\n",
    "most_popular_occupation\n",
    "\n"
   ]
  },
  {
   "cell_type": "code",
   "execution_count": 24,
   "id": "c6c4fc37-d6ae-4055-84ea-c37e68f53360",
   "metadata": {},
   "outputs": [],
   "source": [
    "df['native-country'] = df['native-country'].str.strip()\n",
    "df['salary'] = df['salary'].str.strip()"
   ]
  },
  {
   "cell_type": "code",
   "execution_count": null,
   "id": "4ca87367-d437-4dc0-92da-b33f17bdb848",
   "metadata": {},
   "outputs": [],
   "source": []
  }
 ],
 "metadata": {
  "kernelspec": {
   "display_name": "Python 3 (ipykernel)",
   "language": "python",
   "name": "python3"
  },
  "language_info": {
   "codemirror_mode": {
    "name": "ipython",
    "version": 3
   },
   "file_extension": ".py",
   "mimetype": "text/x-python",
   "name": "python",
   "nbconvert_exporter": "python",
   "pygments_lexer": "ipython3",
   "version": "3.12.4"
  }
 },
 "nbformat": 4,
 "nbformat_minor": 5
}
